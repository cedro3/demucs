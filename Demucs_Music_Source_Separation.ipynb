{
  "nbformat": 4,
  "nbformat_minor": 0,
  "metadata": {
    "colab": {
      "provenance": [],
      "collapsed_sections": [],
      "include_colab_link": true
    },
    "kernelspec": {
      "name": "python3",
      "display_name": "Python 3"
    },
    "language_info": {
      "name": "python"
    },
    "accelerator": "GPU"
  },
  "cells": [
    {
      "cell_type": "markdown",
      "metadata": {
        "id": "view-in-github",
        "colab_type": "text"
      },
      "source": [
        "<a href=\"https://colab.research.google.com/github/cedro3/demucs/blob/main/Demucs_Music_Source_Separation.ipynb\" target=\"_parent\"><img src=\"https://colab.research.google.com/assets/colab-badge.svg\" alt=\"Open In Colab\"/></a>"
      ]
    },
    {
      "cell_type": "code",
      "metadata": {
        "id": "79JbZGcAqX3p"
      },
      "source": [
        "#@title #**Setup**\n",
        "\n",
        "# install demucs\n",
        "! pip install demucs\n",
        "\n",
        "# clone github code\n",
        "! git clone https://github.com/cedro3/demucs.git\n",
        "%cd demucs\n",
        "\n",
        "# import library\n",
        "import io\n",
        "from pathlib import Path\n",
        "import select\n",
        "from shutil import rmtree\n",
        "import subprocess as sp\n",
        "import sys\n",
        "from typing import Dict, Tuple, Optional, IO\n",
        "from google.colab import files\n",
        "import os\n",
        "import shutil\n",
        "\n",
        "# define function\n",
        "def find_files(in_path):\n",
        "    out = []\n",
        "    for file in Path(in_path).iterdir():\n",
        "        if file.suffix.lower().lstrip(\".\") in extensions:\n",
        "            out.append(file)\n",
        "    return out\n",
        "\n",
        "def copy_process_streams(process: sp.Popen):\n",
        "    def raw(stream: Optional[IO[bytes]]) -> IO[bytes]:\n",
        "        assert stream is not None\n",
        "        if isinstance(stream, io.BufferedIOBase):\n",
        "            stream = stream.raw\n",
        "        return stream\n",
        "\n",
        "    p_stdout, p_stderr = raw(process.stdout), raw(process.stderr)\n",
        "    stream_by_fd: Dict[int, Tuple[IO[bytes], io.StringIO, IO[str]]] = {\n",
        "        p_stdout.fileno(): (p_stdout, sys.stdout),\n",
        "        p_stderr.fileno(): (p_stderr, sys.stderr),\n",
        "    }\n",
        "    fds = list(stream_by_fd.keys())\n",
        "\n",
        "    while fds:\n",
        "        # `select` syscall will wait until one of the file descriptors has content.\n",
        "        ready, _, _ = select.select(fds, [], [])\n",
        "        for fd in ready:\n",
        "            p_stream, std = stream_by_fd[fd]\n",
        "            raw_buf = p_stream.read(2 ** 16)\n",
        "            if not raw_buf:\n",
        "                fds.remove(fd)\n",
        "                continue\n",
        "            buf = raw_buf.decode()\n",
        "            std.write(buf)\n",
        "            std.flush()\n",
        "\n",
        "def separate(inp=None, outp=None):\n",
        "    inp = inp or in_path\n",
        "    outp = outp or out_path\n",
        "    cmd = [\"python3\", \"-m\", \"demucs.separate\", \"-o\", str(outp), \"-n\", model]\n",
        "    if mp3:\n",
        "        cmd += [\"--mp3\", f\"--mp3-bitrate={mp3_rate}\"]\n",
        "    if float32:\n",
        "        cmd += [\"--float32\"]\n",
        "    if int24:\n",
        "        cmd += [\"--int24\"]\n",
        "    if two_stems is not None:\n",
        "        cmd += [f\"--two-stems={two_stems}\"]\n",
        "    files = [str(f) for f in find_files(inp)]\n",
        "    if not files:\n",
        "        print(f\"No valid audio files in {in_path}\")\n",
        "        return\n",
        "    print(\"Going to separate the files:\")\n",
        "    print('\\n'.join(files))\n",
        "    print(\"With command: \", \" \".join(cmd))\n",
        "    p = sp.Popen(cmd + files, stdout=sp.PIPE, stderr=sp.PIPE)\n",
        "    copy_process_streams(p)\n",
        "    p.wait()\n",
        "    if p.returncode != 0:\n",
        "        print(\"Command failed, something went wrong.\")\n",
        "\n",
        "def reset_folder(path):\n",
        "    if os.path.isdir(path):\n",
        "      shutil.rmtree(path)\n",
        "    os.makedirs(path,exist_ok=True)\n",
        "\n",
        "# make directory\n",
        "! mkdir target\n",
        "! mkdir separated"
      ],
      "execution_count": null,
      "outputs": []
    },
    {
      "cell_type": "code",
      "metadata": {
        "id": "znCvBifRrO-b"
      },
      "source": [
        "#@title #**Separate music**\n",
        "\n",
        "#@markdown **please upload mp3 to music folder**\n",
        "\n",
        "# setting\n",
        "input = 'sazanami.mp3' #@param {type:\"string\"}\n",
        "reset_folder('target')\n",
        "reset_folder('separated')\n",
        "shutil.copy('./music/'+input, './target/'+input)\n",
        "karaoke = False #@param {type:\"boolean\"}\n",
        "\n",
        "# Customize the following options!\n",
        "model = \"mdx_extra\"\n",
        "extensions = [\"mp3\", \"wav\", \"ogg\", \"flac\"]  # we will look for all those file types.\n",
        "\n",
        "if karaoke:\n",
        "  two_stems = \"vocals\"\n",
        "else:\n",
        "  two_stems = None   # only separate one stems from the rest, for instance\n",
        "\n",
        "# Options for the output audio.\n",
        "mp3 = True\n",
        "mp3_rate = 320\n",
        "float32 = False  # output as float 32 wavs, unsused if 'mp3' is True.\n",
        "int24 = False    # output as int24 wavs, unused if 'mp3' is True.\n",
        "# You cannot set both `float32 = True` and `int24 = True` !!\n",
        "\n",
        "in_path = './target/'\n",
        "out_path = './separated/'\n",
        "\n",
        "separate()"
      ],
      "execution_count": null,
      "outputs": []
    },
    {
      "cell_type": "code",
      "source": [
        "#@title #**Play separated music**\n",
        "\n",
        "from IPython.display import Audio\n",
        "#@markdown　-If karaoka, you can select vocals or no_vocals\\\n",
        "#@markdown -If not karaoke, you can select bass, drums, other, vocals\n",
        "\n",
        "part =\"bass\"#@param [\"bass\", \"drums\", \"other\", \"vocals\", \"no_vocals\"]\n",
        "file_path = './separated/mdx_extra/'+os.path.splitext(input)[0]+'/'+part+'.mp3'\n",
        "Audio(file_path)"
      ],
      "metadata": {
        "id": "Zv997wTl3va9"
      },
      "execution_count": null,
      "outputs": []
    },
    {
      "cell_type": "code",
      "source": [
        "#@title #**Download separated music**\n",
        "from google.colab import files\n",
        "\n",
        "if os.path.isfile('separated.zip'):\n",
        "  os.remove('separated.zip')\n",
        "\n",
        "! zip -r separated.zip separated/mdx_extra\n",
        "files.download('separated.zip')"
      ],
      "metadata": {
        "id": "gkLXTgK9Cb9g"
      },
      "execution_count": null,
      "outputs": []
    }
  ]
}